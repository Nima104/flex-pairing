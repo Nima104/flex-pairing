{
 "cells": [
  {
   "cell_type": "code",
   "execution_count": 358,
   "metadata": {},
   "outputs": [],
   "source": [
    "import numpy as np\n",
    "import matplotlib.pyplot as plt\n",
    "from random import *\n",
    "from math import *"
   ]
  },
  {
   "cell_type": "markdown",
   "metadata": {},
   "source": [
    "<h3>##TODO: I need some feedback on efficiency, code beauty, and algorithm sanity here. Hit me up if you found something worthy of noting!</h3>"
   ]
  },
  {
   "cell_type": "code",
   "execution_count": 359,
   "metadata": {},
   "outputs": [],
   "source": [
    "## profile_vector[0]: academic_score\n",
    "## profile_vector[1]: sports_score\n",
    "## profile_vector[2]: arts_score\n",
    "## profile_vector[3]: race(0 for male and 1 for female)\n",
    "## profile_vector[4]: grade level(1, 2, 3, 4 for years in high school)\n",
    "\n",
    "def second_largest(array):\n",
    "    # This is O(n) btw! Sorting and then indexing the second one would've been O(nlog(n))\n",
    "    # But it's mutative so meh\n",
    "    _lst = list(array)[:]\n",
    "    _lst.remove(max(_lst))\n",
    "    return max(_lst)\n",
    "\n",
    "\n",
    "class Participant:\n",
    "    def __init__(self, profile_vector):\n",
    "        self.profile_vector = profile_vector\n",
    "        self.interests = profile_vector[:3]\n",
    "        self.background = profile_vector[3:5]\n",
    "    \n",
    "    def similarity(self, other, mode='dot_product'):\n",
    "        assert mode in ['dot_product', 'gaussian_kernel'], 'Invalid mode \"{0}\"'.format(mode)\n",
    "        if mode == 'dot_product':\n",
    "            normalized_self = self.interests / np.linalg.norm(self.interests) \n",
    "            normalized_other = other.interests / np.linalg.norm(other.interests) \n",
    "            return np.float32(normalized_self.dot(normalized_other))\n",
    "        elif mode == 'gaussian_kernel':\n",
    "            sigma = 1 ## I have no idea what to set this to. Lmk if you know\n",
    "            return e ** ((-np.linalg.norm(self.interests - other.interests) ** 2) / (2 * sigma ** 2))\n",
    "        \n",
    "    @staticmethod\n",
    "    def similarity_matrix(lst_of_people, mode='dot_product'):\n",
    "        matrix = np.zeros((len(people), len(people)))\n",
    "        for i in range(len(people)):\n",
    "            for j in range(len(people)):\n",
    "                matrix[i][j] = people[i].similarity(people[j], mode=mode)\n",
    "        return matrix\n"
   ]
  },
  {
   "cell_type": "markdown",
   "metadata": {},
   "source": [
    "<h2>Method 1: Naive best-preference matching</h2>"
   ]
  },
  {
   "cell_type": "markdown",
   "metadata": {},
   "source": [
    "Best-preference matching is pretty self-explanatory and intuitive, but let's see if it actually works!"
   ]
  },
  {
   "cell_type": "code",
   "execution_count": 488,
   "metadata": {},
   "outputs": [
    {
     "name": "stdout",
     "output_type": "stream",
     "text": [
      "Best preference matching:\n",
      "[2, 4, 0, 5, 7, 3, 3, 4, 9, 8]\n"
     ]
    }
   ],
   "source": [
    "people = [Participant(np.random.random(size=(3,))) for i in range(10)]\n",
    "matrix1 = Participant.similarity_matrix(people, mode='dot_product')\n",
    "\n",
    "## Matching people with the best preference isn't stable!\n",
    "maxes1 = np.apply_along_axis(second_largest, 1, matrix1)\n",
    "\n",
    "indices = []\n",
    "for i in range(maxes1.shape[0]):\n",
    "    indices.append(list(matrix1[i, :]).index(maxes1[i]))\n",
    "\n",
    "print('Best preference matching:')\n",
    "print(indices)"
   ]
  },
  {
   "cell_type": "markdown",
   "metadata": {},
   "source": [
    "There are 8 people that have unstable pairs. <b> This doesn't work!</b>"
   ]
  },
  {
   "cell_type": "code",
   "execution_count": 683,
   "metadata": {},
   "outputs": [
    {
     "name": "stdout",
     "output_type": "stream",
     "text": [
      "\n",
      "\n",
      "matrix:\n",
      "[[1.         0.61194801 0.98135531 0.23939753 0.71064836 0.37769148\n",
      "  0.32352403 0.81789351 0.86189651 0.81771022]\n",
      " [0.61194801 1.         0.46043098 0.40989402 0.97471511 0.50455052\n",
      "  0.24338764 0.92032498 0.67367393 0.53748643]\n",
      " [0.98135531 0.46043098 1.         0.24394007 0.58920062 0.37345418\n",
      "  0.37774432 0.72516531 0.84827799 0.83693463]\n",
      " [0.23939753 0.40989402 0.24394007 1.         0.55299687 0.98895001\n",
      "  0.95795137 0.57506114 0.69854325 0.73461598]\n",
      " [0.71064836 0.97471511 0.58920062 0.55299687 1.         0.65088171\n",
      "  0.43019003 0.98141146 0.81924534 0.71096742]\n",
      " [0.37769148 0.50455052 0.37345418 0.98895001 0.65088171 1.\n",
      "  0.95331919 0.68312377 0.79503548 0.81786114]\n",
      " [0.32352403 0.24338764 0.37774432 0.95795137 0.43019003 0.95331919\n",
      "  1.         0.50477183 0.7354148  0.80910319]\n",
      " [0.81789351 0.92032498 0.72516531 0.57506114 0.98141146 0.68312377\n",
      "  0.50477183 1.         0.90791637 0.82106686]\n",
      " [0.86189651 0.67367393 0.84827799 0.69854325 0.81924534 0.79503548\n",
      "  0.7354148  0.90791637 1.         0.98434544]\n",
      " [0.81771022 0.53748643 0.83693463 0.73461598 0.71096742 0.81786114\n",
      "  0.80910319 0.82106686 0.98434544 1.        ]]\n",
      "\n",
      "\n",
      "rankings:\n",
      "[[2 8 7 9 4 1 5 6 3]\n",
      " [4 7 8 0 9 5 2 3 6]\n",
      " [0 8 9 7 4 1 6 5 3]\n",
      " [5 6 9 8 7 4 1 2 0]\n",
      " [7 1 8 9 0 5 2 3 6]\n",
      " [3 6 9 8 7 4 1 0 2]\n",
      " [3 5 9 8 7 4 2 0 1]\n",
      " [4 1 8 9 0 2 5 3 6]\n",
      " [9 7 0 2 4 5 6 3 1]\n",
      " [8 2 7 5 0 6 3 4 1]]\n"
     ]
    }
   ],
   "source": [
    "## Instead, let's rank each person's preferences using the similarity matrix.\n",
    "def rank_indices(lst):\n",
    "    _lst = list(lst)\n",
    "    rankings = []\n",
    "    sorted_lst = sorted(_lst, reverse=True)\n",
    "    for i in sorted_lst:\n",
    "        rankings.append(_lst.index(i))\n",
    "    return np.array(rankings)\n",
    "\n",
    "## The first column in rankings is useless because a person cannot rank themselves\n",
    "rankings1 = np.apply_along_axis(rank_indices, 1, matrix1)[:, 1:]\n",
    "\n",
    "print('\\n')\n",
    "print('matrix:')\n",
    "print(matrix1)\n",
    "print('\\n')\n",
    "print('rankings:')\n",
    "print(rankings1)\n",
    "## "
   ]
  },
  {
   "cell_type": "markdown",
   "metadata": {},
   "source": [
    "<h2>Method 2: Exhaustive stable-marriage algorithm</h2>\n"
   ]
  },
  {
   "cell_type": "markdown",
   "metadata": {},
   "source": [
    "Here we explore the pairing of n partcipants using the stable marriage algorithm. The algorithm stipulates that\n",
    "the population have a \"gender\" feature for it to converge to a stable pairing(otherwise, some people would rather be with someone who has a higher priority on their wishlist). Source: http://www.eecs70.org/static/notes/n4.pdf\n",
    "\n",
    "However, we don't have a natural gender feature in our use case. But what if we could just give someone a gender, for the sake of the problem? My solution to this problem is to exhaustively search every possible 50-50 gender \"assignment\" and find one that converges. \n",
    "\n",
    "Let's see if it works or not."
   ]
  },
  {
   "cell_type": "markdown",
   "metadata": {},
   "source": [
    "<h4>Step 1: Implementation of the stable marriage algorithm</h4>"
   ]
  },
  {
   "cell_type": "code",
   "execution_count": 690,
   "metadata": {},
   "outputs": [
    {
     "data": {
      "text/plain": [
       "[('a', 'C'), ('b', 'A'), ('c', 'D'), ('d', 'B')]"
      ]
     },
     "execution_count": 690,
     "metadata": {},
     "output_type": "execute_result"
    }
   ],
   "source": [
    "class Male:\n",
    "    def __init__(self, pref):\n",
    "        self.pref = pref\n",
    "        self.index = 0\n",
    "    \n",
    "    @property\n",
    "    def askee(self):\n",
    "        return self.pref[self.index]\n",
    "        \n",
    "class Female:\n",
    "    def __init__(self, pref):\n",
    "        self.pref = pref\n",
    "        self.string = None\n",
    "\n",
    "#########################\n",
    "# This part should be automatically generated from the similarity matrix later\n",
    "a = Male(['A', 'D', 'B', 'C'])\n",
    "b = Male(['B', 'A', 'D', 'C'])\n",
    "c = Male(['D', 'A', 'B', 'C'])\n",
    "d = Male(['A', 'B', 'C', 'D'])\n",
    "A = Female(['b', 'a', 'c', 'd'])\n",
    "B = Female(['d', 'a', 'b', 'c'])\n",
    "C = Female(['a', 'b', 'c', 'd'])\n",
    "D = Female(['d', 'c', 'b', 'a'])\n",
    "\n",
    "males = {'a': a, 'b': b, 'c': c, 'd': d}\n",
    "females = {'A': A, 'B': B, 'C': C, 'D': D}\n",
    "\n",
    "##########################\n",
    "\n",
    "def stable_marriage(male_map, female_map):\n",
    "    def ask():\n",
    "        return {symbol: male.askee for symbol, male in male_map.items()}\n",
    "    \n",
    "    def groupby(dct):\n",
    "        groups = {}\n",
    "        for key, value in dct.items():\n",
    "            try:\n",
    "                groups[value].append(key)\n",
    "            except KeyError:\n",
    "                groups[value] = [key]\n",
    "        return groups \n",
    "\n",
    "    def put_on_string(grouped):\n",
    "        for woman_symbol, lst in grouped.items():\n",
    "            try:\n",
    "                current = female_map[woman_symbol]\n",
    "                current.string = min(lst, key=lambda m: current.pref.index(m))\n",
    "            except KeyError:\n",
    "                raise\n",
    "\n",
    "    def review_ask(askings):\n",
    "        for man_symbol, woman_symbol in askings.items():\n",
    "            if female_map[woman_symbol].string != man_symbol:\n",
    "                male_map[man_symbol].index += 1\n",
    "    \n",
    "    count = 0\n",
    "    while not all([female.string for female in female_map.values()]) and count < 100:\n",
    "        try:\n",
    "            askings = ask()\n",
    "            grouped = groupby(askings)\n",
    "            put_on_string(grouped)\n",
    "            review_ask(askings)\n",
    "            count += 1\n",
    "\n",
    "        except KeyError as e:\n",
    "            return 'There is no stable pairing' + str(e)\n",
    "            \n",
    "        \n",
    "    return list(askings.items()) \n",
    "stable_marriage(males, females)"
   ]
  },
  {
   "cell_type": "markdown",
   "metadata": {},
   "source": [
    "<h4>Step 2: exhaustive search</h4>"
   ]
  },
  {
   "cell_type": "code",
   "execution_count": 734,
   "metadata": {
    "scrolled": false
   },
   "outputs": [
    {
     "name": "stdout",
     "output_type": "stream",
     "text": [
      "0.03492063492063492\n"
     ]
    }
   ],
   "source": [
    "from itertools import combinations\n",
    "\n",
    "def split(source):\n",
    "    c1 = combinations(source, len(source) // 2)\n",
    "    def rest(source, combination):\n",
    "        return tuple([el for el in source if el not in combination])\n",
    "\n",
    "    return [(comb, rest(source, comb)) for comb in c1]\n",
    "\n",
    "\n",
    "assignments = split(range(0, 10))\n",
    "\n",
    "\n",
    "def remove_same_gender(part1, part2, rankings):\n",
    "    cleaned_g1 = []\n",
    "    cleaned_g2 = []\n",
    "    g1 = rankings[list(part1)]\n",
    "    g2 = rankings[list(part2)]\n",
    "    diff_gender = lambda own_part: lambda x: x not in own_part\n",
    "    for person in g1:\n",
    "        cleaned_g1.append(np.apply_along_axis(lambda arr: list(filter(diff_gender(list(part1)), arr)), 0, person))\n",
    "    for person in g2:\n",
    "        cleaned_g2.append(np.apply_along_axis(lambda arr: list(filter(diff_gender(list(part2)), arr)), 0, person))\n",
    "    return np.array(cleaned_g1), np.array(cleaned_g2)\n",
    "\n",
    "\n",
    "\n",
    "## Do a smart repetition removal instead of making and freezeing sets. \n",
    "def without_reps(all_pairings):\n",
    "    a = set()\n",
    "    for pairing in all_pairings:\n",
    "        s = set()\n",
    "        for pair in pairing:\n",
    "            s.add(frozenset(pair))\n",
    "        a.add(frozenset(s))\n",
    "    a = frozenset(a)\n",
    "    return [list([set(pair) for pair in pairing]) for pairing in a]\n",
    "        \n",
    "\n",
    "## for demonstration purposes\n",
    "def num_of_possible_pairs(m):\n",
    "    def fact(n):\n",
    "        if n == 0:\n",
    "            return 1\n",
    "        return n * fact(n-1)\n",
    "    return fact(m) // (2**(m // 2) * fact(m // 2))\n",
    "        \n",
    "        \n",
    "all_pairings = []\n",
    "for part1, part2 in assignments:\n",
    "    males, females = remove_same_gender(part1, part2, rankings1)\n",
    "    male_map = dict(zip(part1, [Male(r.tolist()) for r in males]))\n",
    "    female_map = dict(zip(part2, [Female(r.tolist()) for r in females]))\n",
    "    all_pairings.append(stable_marriage(male_map, female_map))\n",
    "    \n",
    "\n",
    "optimal_pairings = without_reps(all_pairings)\n",
    "\n",
    "ratio = len(optimal_pairings) / num_of_possible_pairs(10)\n",
    "print(ratio)"
   ]
  },
  {
   "cell_type": "markdown",
   "metadata": {},
   "source": [
    "However, this only optimizes the stable marriage algorithm for different 1/2 population selections. It doesn't work."
   ]
  },
  {
   "cell_type": "markdown",
   "metadata": {},
   "source": [
    "<h2>Best algorithm: Stable Roommates Algorithm</h2>"
   ]
  },
  {
   "cell_type": "markdown",
   "metadata": {},
   "source": [
    "Already implemented here: https://github.com/CoeCS/tacklebox/blob/master/stableroomate/stableroomate.py\n",
    "This is python 2, and after a simple conversion it will be usable for us."
   ]
  },
  {
   "cell_type": "markdown",
   "metadata": {},
   "source": []
  }
 ],
 "metadata": {
  "kernelspec": {
   "display_name": "Python 3",
   "language": "python",
   "name": "python3"
  },
  "language_info": {
   "codemirror_mode": {
    "name": "ipython",
    "version": 3
   },
   "file_extension": ".py",
   "mimetype": "text/x-python",
   "name": "python",
   "nbconvert_exporter": "python",
   "pygments_lexer": "ipython3",
   "version": "3.6.7"
  }
 },
 "nbformat": 4,
 "nbformat_minor": 2
}
